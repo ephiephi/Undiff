{
 "cells": [
  {
   "cell_type": "code",
   "execution_count": 1,
   "metadata": {},
   "outputs": [],
   "source": [
    "def plot_this(s,title=''):\n",
    "    \"\"\"\n",
    "\n",
    "    \"\"\"\n",
    "    import pylab\n",
    "    s = s.squeeze()\n",
    "    if s.ndim ==1:\n",
    "        pylab.plot(s)\n",
    "    else:\n",
    "        pylab.imshow(s,aspect='auto')\n",
    "        pylab.title(title)\n",
    "    pylab.show()\n",
    "\n",
    "import torch \n",
    "def calculate_scaling_factor(clean_audio, noise_audio, target_snr):\n",
    "    \"\"\"Calculate the scaling factor to adjust noise to the target SNR level.\"\"\"\n",
    "    target_snr = float(target_snr)\n",
    "    clean_power = torch.mean(clean_audio**2)\n",
    "    noise_power = torch.mean(noise_audio**2)\n",
    "    desired_noise_power = clean_power / (10 ** (target_snr / 10))\n",
    "    scaling_factor = torch.sqrt(desired_noise_power / noise_power)\n",
    "    return scaling_factor"
   ]
  },
  {
   "cell_type": "code",
   "execution_count": 2,
   "metadata": {},
   "outputs": [
    {
     "data": {
      "text/plain": [
       "torch.Size([1, 4699904])"
      ]
     },
     "execution_count": 2,
     "metadata": {},
     "output_type": "execute_result"
    }
   ],
   "source": [
    "import torch\n",
    "import torchaudio\n",
    "noise1 = \"/data/ephraim/datasets/known_noise/undiff_exps/exp_o2_net18/noises/noise_fileid_6.wav\"\n",
    "noise_1, sr = torchaudio.load(noise1)\n",
    "noise_1.shape\n",
    "noise2 = \"/data/ephraim/datasets/known_noise/undiff_exps/exp_o2_net18/noises/noise_fileid_18.wav\"\n",
    "noise_2, sr = torchaudio.load(noise2)\n",
    "noise_2.shape"
   ]
  },
  {
   "cell_type": "code",
   "execution_count": 3,
   "metadata": {},
   "outputs": [
    {
     "data": {
      "image/png": "[encoded data removed]",
      "text/plain": [
       "<Figure size 640x480 with 2 Axes>"
      ]
     },
     "metadata": {},
     "output_type": "display_data"
    }
   ],
   "source": [
    "import scipy.signal as signal\n",
    "from matplotlib import pyplot as plt\n",
    "\n",
    "freqs1, magnitudes1 = signal.welch(noise_1.squeeze().cpu().detach().numpy(), fs=16000)\n",
    "freqs, magnitudes = signal.welch(noise_2.squeeze().detach().cpu(), fs=16000)\n",
    "limit = 0.0013\n",
    "figure, axis = plt.subplots(1,2)\n",
    "axis[0].hist(freqs1, bins=50, weights=magnitudes1, density=True, color='b', alpha=0.7)\n",
    "axis[0].set_title('1')\n",
    "axis[0].grid(True)\n",
    "axis[0].set_ylim(0.0, limit)\n",
    "axis[1].hist(freqs, bins=50, weights=magnitudes, density=True, color='b', alpha=0.7)\n",
    "axis[1].set_title('2')\n",
    "axis[1].grid(True)\n",
    "axis[1].set_ylim(0.0, limit)\n",
    "\n",
    "plt.show()"
   ]
  },
  {
   "cell_type": "code",
   "execution_count": 4,
   "metadata": {},
   "outputs": [
    {
     "data": {
      "text/plain": [
       "tensor(0.0036)"
      ]
     },
     "execution_count": 4,
     "metadata": {},
     "output_type": "execute_result"
    }
   ],
   "source": [
    "clean1 = \"/data/ephraim/datasets/known_noise/undiff_exps/exp_o2_net18/clean_wav/LJ050-0275_fileid_6.wav\"\n",
    "clean_1, sr = torchaudio.load(clean1)\n",
    "torch.mean(clean_1**2)"
   ]
  },
  {
   "cell_type": "code",
   "execution_count": 9,
   "metadata": {},
   "outputs": [
    {
     "data": {
      "text/plain": [
       "tensor(0.0013)"
      ]
     },
     "execution_count": 9,
     "metadata": {},
     "output_type": "execute_result"
    }
   ],
   "source": [
    "clean2 = \"/data/ephraim/datasets/known_noise/undiff_exps/exp_o_net3_2/6/clean_wav/noise6_book_buccaneer1_snr5_fileid_6.wav\"\n",
    "clean_2, sr = torchaudio.load(clean2)\n",
    "torch.mean(clean_2**2)"
   ]
  },
  {
   "cell_type": "code",
   "execution_count": null,
   "metadata": {},
   "outputs": [],
   "source": [
    "factor1 =  calculate_scaling_factor(clean_1, noise_1, 5)\n",
    "factor2 =  calculate_scaling_factor(clean_2, noise_2, 5)\n",
    "factor1, factor2"
   ]
  },
  {
   "cell_type": "code",
   "execution_count": 6,
   "metadata": {},
   "outputs": [
    {
     "ename": "SyntaxError",
     "evalue": "invalid syntax (1789848201.py, line 2)",
     "output_type": "error",
     "traceback": [
      "\u001b[0;36m  Cell \u001b[0;32mIn[6], line 2\u001b[0;36m\u001b[0m\n\u001b[0;31m    noisy2 =\u001b[0m\n\u001b[0m             ^\u001b[0m\n\u001b[0;31mSyntaxError\u001b[0m\u001b[0;31m:\u001b[0m invalid syntax\n"
     ]
    }
   ],
   "source": [
    "noisy1 =  \"/data/ephraim/datasets/known_noise/undiff_exps/exp_o2_net18/noisy_wav/LJ050-0275_snr5_fileid_6.wav\"\n",
    "noisy2 = "
   ]
  },
  {
   "cell_type": "code",
   "execution_count": null,
   "metadata": {},
   "outputs": [],
   "source": []
  },
  {
   "cell_type": "code",
   "execution_count": 7,
   "metadata": {},
   "outputs": [
    {
     "data": {
      "text/plain": [
       "tensor(0.0012)"
      ]
     },
     "execution_count": 7,
     "metadata": {},
     "output_type": "execute_result"
    }
   ],
   "source": [
    "mine = \"/data/ephraim/datasets/known_noise/undiff_exps/exp_o_net17/clean_wav/clean_fileid_18.wav\"\n",
    "mine, sr = torchaudio.load(mine)\n",
    "torch.mean(mine**2)"
   ]
  },
  {
   "cell_type": "code",
   "execution_count": 27,
   "metadata": {},
   "outputs": [
    {
     "data": {
      "text/plain": [
       "tensor(0.0118)"
      ]
     },
     "execution_count": 27,
     "metadata": {},
     "output_type": "execute_result"
    }
   ],
   "source": [
    "aplified = \"/data/ephraim/datasets/known_noise/undiff_exps/exp_o_net3_6_amplified_3/6/clean_wav/noise6_book_buccaneer1_snr5_fileid_6.wav\"\n",
    "aplified, sr = torchaudio.load(aplified)\n",
    "torch.mean(aplified**2)"
   ]
  },
  {
   "cell_type": "code",
   "execution_count": null,
   "metadata": {},
   "outputs": [
    {
     "data": {
      "text/plain": [
       "(tensor(0.4536), tensor(0.0892))"
      ]
     },
     "execution_count": 7,
     "metadata": {},
     "output_type": "execute_result"
    }
   ],
   "source": []
  },
  {
   "cell_type": "code",
   "execution_count": 34,
   "metadata": {},
   "outputs": [
    {
     "name": "stderr",
     "output_type": "stream",
     "text": [
      "100%|██████████| 111/111 [06:34<00:00,  3.56s/it]\n"
     ]
    },
    {
     "name": "stdout",
     "output_type": "stream",
     "text": [
      "mean, std: 0.002630104328707026 0.0019539812329330366\n"
     ]
    },
    {
     "data": {
      "image/png": "[encoded data removed]",
      "text/plain": [
       "<Figure size 640x480 with 1 Axes>"
      ]
     },
     "metadata": {},
     "output_type": "display_data"
    }
   ],
   "source": [
    "import os\n",
    "from tqdm import tqdm\n",
    "vctk = \"/data/ephraim/datasets/vctk/VCTK-Corpus-0.92/wav48_silence_trimmed/p376/\"\n",
    "vctk_root = \"/data/ephraim/datasets/vctk/VCTK-Corpus-0.92/wav48_silence_trimmed/\"\n",
    "powers = []\n",
    "for d in tqdm(os.listdir(vctk_root)):\n",
    "    if os.path.isdir(os.path.join(vctk_root, d)):\n",
    "        vctk = os.path.join(vctk_root, d)\n",
    "\n",
    "        files = os.listdir(vctk)\n",
    "\n",
    "        for f in files:\n",
    "            if f.endswith(\".flac\"):\n",
    "                wav, sr = torchaudio.load(os.path.join(vctk, f))\n",
    "                powers.append(torch.mean(wav**2).item())\n",
    "\n",
    "#calc std and mean for the power\n",
    "import numpy as np\n",
    "mean = np.mean(powers)\n",
    "std = np.std(powers)\n",
    "print(\"mean, std:\",mean, std)\n",
    "#plot the histogram\n",
    "plt.hist(powers, bins=50, density=True)\n",
    "plt.title('Histogram of Power VCTK')\n",
    "plt.xlabel('Power')\n",
    "plt.ylabel('Density')\n",
    "plt.grid(True)\n",
    "plt.show()\n"
   ]
  },
  {
   "cell_type": "code",
   "execution_count": null,
   "metadata": {},
   "outputs": [
    {
     "name": "stdout",
     "output_type": "stream",
     "text": [
      "Range: 0.027148655712153413\n",
      "IQR: 0.0024473022494930774\n",
      "Standard Deviation: 0.0019539812329330366\n",
      "Five-Number Summary: {'Minimum': 9.76860974333249e-07, 'Q1': 0.0011770979908760637, 'Median': 0.0022505606757476926, 'Q3': 0.003624400240369141, 'Maximum': 0.027149632573127747}\n"
     ]
    }
   ],
   "source": [
    "import numpy as np\n",
    "\n",
    "data = powers # Replace with your data\n",
    "\n",
    "# Range\n",
    "data_range = np.max(data) - np.min(data)\n",
    "\n",
    "# Interquartile Range (IQR)\n",
    "q1 = np.percentile(data, 25)\n",
    "q3 = np.percentile(data, 75)\n",
    "iqr = q3 - q1\n",
    "\n",
    "# Standard Deviation\n",
    "std_dev = np.std(data)\n",
    "\n",
    "# Five-Number Summary\n",
    "five_number_summary = {\n",
    "    'Minimum': np.min(data),\n",
    "    'Q1': q1,\n",
    "    'Median': np.median(data),\n",
    "    'Q3': q3,\n",
    "    'Maximum': np.max(data)\n",
    "}\n",
    "\n",
    "print(f\"Range: {data_range}\")\n",
    "print(f\"IQR: {iqr}\")\n",
    "print(f\"Standard Deviation: {std_dev}\")\n",
    "print(\"Five-Number Summary:\", five_number_summary)"
   ]
  },
  {
   "cell_type": "code",
   "execution_count": 25,
   "metadata": {},
   "outputs": [
    {
     "name": "stdout",
     "output_type": "stream",
     "text": [
      "Modified Z-scores: 4.387967648198827\n"
     ]
    }
   ],
   "source": [
    "# Compute the median\n",
    "median = np.median(data)\n",
    "\n",
    "# Compute the median absolute deviation (MAD)\n",
    "mad = np.median(np.abs(data - median))\n",
    "\n",
    "# Compute the modified Z-scores\n",
    "modified_z_scores = 0.6745 * (0.01 - median) / mad\n",
    "\n",
    "print(\"Modified Z-scores:\", modified_z_scores)"
   ]
  },
  {
   "cell_type": "code",
   "execution_count": 23,
   "metadata": {},
   "outputs": [
    {
     "data": {
      "text/plain": [
       "88328"
      ]
     },
     "execution_count": 23,
     "metadata": {},
     "output_type": "execute_result"
    }
   ],
   "source": [
    "len(powers)"
   ]
  },
  {
   "cell_type": "code",
   "execution_count": 7,
   "metadata": {},
   "outputs": [
    {
     "name": "stdout",
     "output_type": "stream",
     "text": [
      "13097\n"
     ]
    },
    {
     "name": "stdout",
     "output_type": "stream",
     "text": [
      "mean, std: 0.004386842364678159 0.0012897568584185693\n"
     ]
    },
    {
     "data": {
      "image/png": "[encoded data removed]",
      "text/plain": [
       "<Figure size 640x480 with 1 Axes>"
      ]
     },
     "metadata": {},
     "output_type": "display_data"
    }
   ],
   "source": [
    "import os\n",
    "LJSpeech = \"/data/ephraim/datasets/LJSpeech-1.1/wavs/\"\n",
    "files = os.listdir(LJSpeech)\n",
    "print(len(files))\n",
    "powers2 = []\n",
    "counter=0\n",
    "for f in files:\n",
    "    if f.endswith(\".wav\"):\n",
    "        counter+=1\n",
    "        if counter > 1000:\n",
    "            break\n",
    "        wav, sr = torchaudio.load(os.path.join(LJSpeech, f))\n",
    "        powers2.append(torch.mean(wav**2).item())\n",
    "\n",
    "#calc std and mean for the power\n",
    "import numpy as np\n",
    "mean2 = np.mean(powers2)\n",
    "std2 = np.std(powers2)\n",
    "print(\"mean, std:\",mean2, std2)\n",
    "#plot the histogram\n",
    "plt.hist(powers2, bins=50, density=True)\n",
    "plt.title('Histogram of Power')\n",
    "plt.xlabel('Power')\n",
    "plt.ylabel('Density')\n",
    "plt.grid(True)\n",
    "plt.show()\n"
   ]
  },
  {
   "cell_type": "code",
   "execution_count": 8,
   "metadata": {},
   "outputs": [
    {
     "name": "stdout",
     "output_type": "stream",
     "text": [
      "Range: 0.009877186501398683\n",
      "IQR: 0.0015572439879179\n",
      "Standard Deviation: 0.0012897568584185693\n",
      "Five-Number Summary: {'Minimum': 0.001697855768725276, 'Q1': 0.003475857200101018, 'Median': 0.004217170178890228, 'Q3': 0.005033101188018918, 'Maximum': 0.011575042270123959}\n"
     ]
    }
   ],
   "source": [
    "import numpy as np\n",
    "\n",
    "data = powers2 # Replace with your data\n",
    "\n",
    "# Range\n",
    "data_range = np.max(data) - np.min(data)\n",
    "\n",
    "# Interquartile Range (IQR)\n",
    "q1 = np.percentile(data, 25)\n",
    "q3 = np.percentile(data, 75)\n",
    "iqr = q3 - q1\n",
    "\n",
    "# Standard Deviation\n",
    "std_dev = np.std(data)\n",
    "\n",
    "# Five-Number Summary\n",
    "five_number_summary = {\n",
    "    'Minimum': np.min(data),\n",
    "    'Q1': q1,\n",
    "    'Median': np.median(data),\n",
    "    'Q3': q3,\n",
    "    'Maximum': np.max(data)\n",
    "}\n",
    "\n",
    "print(f\"Range: {data_range}\")\n",
    "print(f\"IQR: {iqr}\")\n",
    "print(f\"Standard Deviation: {std_dev}\")\n",
    "print(\"Five-Number Summary:\", five_number_summary)"
   ]
  },
  {
   "cell_type": "code",
   "execution_count": null,
   "metadata": {},
   "outputs": [],
   "source": []
  },
  {
   "cell_type": "code",
   "execution_count": null,
   "metadata": {},
   "outputs": [],
   "source": []
  },
  {
   "cell_type": "code",
   "execution_count": 6,
   "metadata": {},
   "outputs": [
    {
     "data": {
      "text/plain": [
       "tensor(5.6006)"
      ]
     },
     "execution_count": 6,
     "metadata": {},
     "output_type": "execute_result"
    }
   ],
   "source": [
    "import torchaudio\n",
    "import torch\n",
    "old = \"/data/ephraim/datasets/known_noise/undiff_exps/exp_o4_net18/clean_wav/LJ050-0271_fileid_18.wav\"\n",
    "old, sr = torchaudio.load(old)\n",
    "new = \"/data/ephraim/datasets/known_noise/undiff_exps2/exp_p5_net1/clean_wav/SX137_fileid_18.wav\"\n",
    "new, sr = torchaudio.load(new)\n",
    "old_power = torch.mean(old**2)\n",
    "new_power = torch.mean(new**2)\n",
    "def calculate_scaling_factor(clean_audio, noise_audio, target_snr):\n",
    "    \"\"\"Calculate the scaling factor to adjust noise to the target SNR level.\"\"\"\n",
    "    target_snr = float(target_snr)\n",
    "    clean_power = torch.mean(clean_audio**2)\n",
    "    noise_power = torch.mean(noise_audio**2)\n",
    "    desired_noise_power = clean_power / (10 ** (target_snr / 10))\n",
    "    scaling_factor = torch.sqrt(desired_noise_power / noise_power)\n",
    "    return scaling_factor\n",
    "calculate_scaling_factor(old, new, 0)"
   ]
  },
  {
   "cell_type": "code",
   "execution_count": 7,
   "metadata": {},
   "outputs": [],
   "source": [
    "import audio_tools2\n",
    "from audio_tools2  import *\n",
    "def calc_vad(f, verbose=False):\n",
    "    test_file=f\n",
    "    fs,s = read_wav(test_file)\n",
    "    win_len = int(fs*0.025)\n",
    "    hop_len = int(fs*0.010)\n",
    "    sframes = audio_tools2.enframe(s,win_len,hop_len) # rows: frame index, cols: each frame\n",
    "    if verbose:\n",
    "        plot_this(compute_log_nrg(sframes))\n",
    "\n",
    "    # percent_high_nrg is the VAD context ratio. It helps smooth the\n",
    "    # output VAD decisions. Higher values are more strict.\n",
    "    percent_high_nrg = 0.5\n",
    "\n",
    "    vad = nrg_vad(sframes,percent_high_nrg)\n",
    "\n",
    "    if verbose:\n",
    "        plot_these(deframe(vad,win_len,hop_len),s)\n",
    "    return deframe(vad,win_len,hop_len) "
   ]
  },
  {
   "cell_type": "code",
   "execution_count": 10,
   "metadata": {},
   "outputs": [
    {
     "ename": "ValueError",
     "evalue": "File format b'NIST' not understood. Only 'RIFF' and 'RIFX' supported.",
     "output_type": "error",
     "traceback": [
      "\u001b[0;31m---------------------------------------------------------------------------\u001b[0m",
      "\u001b[0;31mValueError\u001b[0m                                Traceback (most recent call last)",
      "Cell \u001b[0;32mIn[10], line 4\u001b[0m\n\u001b[1;32m      1\u001b[0m working \u001b[38;5;241m=\u001b[39m \u001b[38;5;124m\"\u001b[39m\u001b[38;5;124m/data/ephraim/datasets/known_noise/undiff_exps2/exp_p5_net1/clean_wav/SX137_fileid_18.wav\u001b[39m\u001b[38;5;124m\"\u001b[39m\n\u001b[1;32m      2\u001b[0m speech_w, sr \u001b[38;5;241m=\u001b[39m torchaudio\u001b[38;5;241m.\u001b[39mload(working)\n\u001b[0;32m----> 4\u001b[0m vaded_signal \u001b[38;5;241m=\u001b[39m calc_vad(working)[\u001b[38;5;241m0\u001b[39m:speech_w\u001b[38;5;241m.\u001b[39mshape[\u001b[38;5;241m1\u001b[39m],:]\n\u001b[1;32m      5\u001b[0m \u001b[38;5;28mprint\u001b[39m(\u001b[38;5;124m\"\u001b[39m\u001b[38;5;124mvaded_signal: \u001b[39m\u001b[38;5;124m\"\u001b[39m, vaded_signal)\n\u001b[1;32m      6\u001b[0m vaded_signal_torch \u001b[38;5;241m=\u001b[39m (speech_w[\u001b[38;5;241m0\u001b[39m][vaded_signal\u001b[38;5;241m.\u001b[39mT[\u001b[38;5;241m0\u001b[39m]\u001b[38;5;241m>\u001b[39m\u001b[38;5;241m0\u001b[39m])\n",
      "Cell \u001b[0;32mIn[7], line 5\u001b[0m, in \u001b[0;36mcalc_vad\u001b[0;34m(f, verbose)\u001b[0m\n\u001b[1;32m      3\u001b[0m \u001b[38;5;28;01mdef\u001b[39;00m \u001b[38;5;21mcalc_vad\u001b[39m(f, verbose\u001b[38;5;241m=\u001b[39m\u001b[38;5;28;01mFalse\u001b[39;00m):\n\u001b[1;32m      4\u001b[0m     test_file\u001b[38;5;241m=\u001b[39mf\n\u001b[0;32m----> 5\u001b[0m     fs,s \u001b[38;5;241m=\u001b[39m read_wav(test_file)\n\u001b[1;32m      6\u001b[0m     win_len \u001b[38;5;241m=\u001b[39m \u001b[38;5;28mint\u001b[39m(fs\u001b[38;5;241m*\u001b[39m\u001b[38;5;241m0.025\u001b[39m)\n\u001b[1;32m      7\u001b[0m     hop_len \u001b[38;5;241m=\u001b[39m \u001b[38;5;28mint\u001b[39m(fs\u001b[38;5;241m*\u001b[39m\u001b[38;5;241m0.010\u001b[39m)\n",
      "File \u001b[0;32m/data/ephraim/Undiff/audio_tools2.py:22\u001b[0m, in \u001b[0;36mread_wav\u001b[0;34m(filename)\u001b[0m\n\u001b[1;32m     17\u001b[0m \u001b[38;5;28;01mdef\u001b[39;00m \u001b[38;5;21mread_wav\u001b[39m(filename):\n\u001b[1;32m     18\u001b[0m \u001b[38;5;250m    \u001b[39m\u001b[38;5;124;03m\"\"\"\u001b[39;00m\n\u001b[1;32m     19\u001b[0m \u001b[38;5;124;03m        read wav file.\u001b[39;00m\n\u001b[1;32m     20\u001b[0m \u001b[38;5;124;03m        Normalizes signal to values between -1 and 1.\u001b[39;00m\n\u001b[1;32m     21\u001b[0m \u001b[38;5;124;03m        Also add some jitter to remove all-zero segments.\"\"\"\u001b[39;00m\n\u001b[0;32m---> 22\u001b[0m     fs, s \u001b[38;5;241m=\u001b[39m wavfile\u001b[38;5;241m.\u001b[39mread(filename) \u001b[38;5;66;03m# scipy reads int\u001b[39;00m\n\u001b[1;32m     23\u001b[0m     s \u001b[38;5;241m=\u001b[39m np\u001b[38;5;241m.\u001b[39marray(s)\u001b[38;5;241m/\u001b[39m\u001b[38;5;28mfloat\u001b[39m(\u001b[38;5;28mmax\u001b[39m(\u001b[38;5;28mabs\u001b[39m(s)))\n\u001b[1;32m     24\u001b[0m     s \u001b[38;5;241m=\u001b[39m add_wgn(s) \u001b[38;5;66;03m# Add jitter for numerical stability\u001b[39;00m\n",
      "File \u001b[0;32m/data/ephraim/downloads/anaconda/lib/python3.11/site-packages/scipy/io/wavfile.py:650\u001b[0m, in \u001b[0;36mread\u001b[0;34m(filename, mmap)\u001b[0m\n\u001b[1;32m    647\u001b[0m     fid \u001b[38;5;241m=\u001b[39m \u001b[38;5;28mopen\u001b[39m(filename, \u001b[38;5;124m'\u001b[39m\u001b[38;5;124mrb\u001b[39m\u001b[38;5;124m'\u001b[39m)\n\u001b[1;32m    649\u001b[0m \u001b[38;5;28;01mtry\u001b[39;00m:\n\u001b[0;32m--> 650\u001b[0m     file_size, is_big_endian \u001b[38;5;241m=\u001b[39m _read_riff_chunk(fid)\n\u001b[1;32m    651\u001b[0m     fmt_chunk_received \u001b[38;5;241m=\u001b[39m \u001b[38;5;28;01mFalse\u001b[39;00m\n\u001b[1;32m    652\u001b[0m     data_chunk_received \u001b[38;5;241m=\u001b[39m \u001b[38;5;28;01mFalse\u001b[39;00m\n",
      "File \u001b[0;32m/data/ephraim/downloads/anaconda/lib/python3.11/site-packages/scipy/io/wavfile.py:521\u001b[0m, in \u001b[0;36m_read_riff_chunk\u001b[0;34m(fid)\u001b[0m\n\u001b[1;32m    518\u001b[0m     fmt \u001b[38;5;241m=\u001b[39m \u001b[38;5;124m'\u001b[39m\u001b[38;5;124m>I\u001b[39m\u001b[38;5;124m'\u001b[39m\n\u001b[1;32m    519\u001b[0m \u001b[38;5;28;01melse\u001b[39;00m:\n\u001b[1;32m    520\u001b[0m     \u001b[38;5;66;03m# There are also .wav files with \"FFIR\" or \"XFIR\" signatures?\u001b[39;00m\n\u001b[0;32m--> 521\u001b[0m     \u001b[38;5;28;01mraise\u001b[39;00m \u001b[38;5;167;01mValueError\u001b[39;00m(\u001b[38;5;124mf\u001b[39m\u001b[38;5;124m\"\u001b[39m\u001b[38;5;124mFile format \u001b[39m\u001b[38;5;132;01m{\u001b[39;00m\u001b[38;5;28mrepr\u001b[39m(str1)\u001b[38;5;132;01m}\u001b[39;00m\u001b[38;5;124m not understood. Only \u001b[39m\u001b[38;5;124m\"\u001b[39m\n\u001b[1;32m    522\u001b[0m                      \u001b[38;5;124m\"\u001b[39m\u001b[38;5;124m'\u001b[39m\u001b[38;5;124mRIFF\u001b[39m\u001b[38;5;124m'\u001b[39m\u001b[38;5;124m and \u001b[39m\u001b[38;5;124m'\u001b[39m\u001b[38;5;124mRIFX\u001b[39m\u001b[38;5;124m'\u001b[39m\u001b[38;5;124m supported.\u001b[39m\u001b[38;5;124m\"\u001b[39m)\n\u001b[1;32m    524\u001b[0m \u001b[38;5;66;03m# Size of entire file\u001b[39;00m\n\u001b[1;32m    525\u001b[0m file_size \u001b[38;5;241m=\u001b[39m struct\u001b[38;5;241m.\u001b[39munpack(fmt, fid\u001b[38;5;241m.\u001b[39mread(\u001b[38;5;241m4\u001b[39m))[\u001b[38;5;241m0\u001b[39m] \u001b[38;5;241m+\u001b[39m \u001b[38;5;241m8\u001b[39m\n",
      "\u001b[0;31mValueError\u001b[0m: File format b'NIST' not understood. Only 'RIFF' and 'RIFX' supported."
     ]
    }
   ],
   "source": [
    "working = \"/data/ephraim/datasets/known_noise/undiff_exps2/exp_p5_net1/clean_wav/SX137_fileid_18.wav\"\n",
    "speech_w, sr = torchaudio.load(working)\n",
    "\n",
    "vaded_signal = calc_vad(working)[0:speech_w.shape[1],:]\n",
    "print(\"vaded_signal: \", vaded_signal)\n",
    "vaded_signal_torch = (speech_w[0][vaded_signal.T[0]>0])\n",
    "vaded_signal_torch = torch.unsqueeze(vaded_signal_torch, dim=0)\n",
    "# raise Exception\n",
    "clean_power2 = float( 1 / vaded_signal_torch.shape[1] * torch.sum(vaded_signal_torch**2))\n",
    "print(\"clean_power: \", clean_power2)\n",
    "simple_power2 =  1 / speech_w.shape[1] * torch.sum(speech_w**2)\n",
    "print(\"simple_power: \", simple_power2)"
   ]
  }
 ],
 "metadata": {
  "kernelspec": {
   "display_name": "base",
   "language": "python",
   "name": "python3"
  },
  "language_info": {
   "codemirror_mode": {
    "name": "ipython",
    "version": 3
   },
   "file_extension": ".py",
   "mimetype": "text/x-python",
   "name": "python",
   "nbconvert_exporter": "python",
   "pygments_lexer": "ipython3",
   "version": "3.11.5"
  }
 },
 "nbformat": 4,
 "nbformat_minor": 2
}
